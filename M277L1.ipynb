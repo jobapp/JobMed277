{
  "nbformat": 4,
  "nbformat_minor": 0,
  "metadata": {
    "colab": {
      "provenance": [],
      "collapsed_sections": [],
      "include_colab_link": true
    },
    "kernelspec": {
      "name": "python3",
      "display_name": "Python 3"
    },
    "language_info": {
      "name": "python"
    }
  },
  "cells": [
    {
      "cell_type": "markdown",
      "metadata": {
        "id": "view-in-github",
        "colab_type": "text"
      },
      "source": [
        "<a href=\"https://colab.research.google.com/github/jobapp/JobMed277/blob/main/M277L1.ipynb\" target=\"_parent\"><img src=\"https://colab.research.google.com/assets/colab-badge.svg\" alt=\"Open In Colab\"/></a>"
      ]
    },
    {
      "cell_type": "code",
      "execution_count": 1,
      "metadata": {
        "id": "YEiJCQNO8-hY"
      },
      "outputs": [],
      "source": [
        "import re\n"
      ]
    },
    {
      "cell_type": "code",
      "source": [
        "with open(r\"/content/med277Lab1.csv\", 'r') as f:\n",
        "    lines = len(f.readlines())\n",
        "    print('Number of lines:', lines)\n",
        "    n_line = f.readlines()\n",
        "    print(n_line)"
      ],
      "metadata": {
        "colab": {
          "base_uri": "https://localhost:8080/"
        },
        "id": "zv5WgY0DzX3P",
        "outputId": "b8aac4cd-6290-49a6-b645-96b08410452e"
      },
      "execution_count": 38,
      "outputs": [
        {
          "output_type": "stream",
          "name": "stdout",
          "text": [
            "Number of lines: 1853\n",
            "[]\n"
          ]
        }
      ]
    },
    {
      "cell_type": "code",
      "source": [
        "line_t = open('/content/med277Lab1.csv', 'r').readlines()"
      ],
      "metadata": {
        "id": "mlQ01b-H0W27"
      },
      "execution_count": 41,
      "outputs": []
    },
    {
      "cell_type": "markdown",
      "source": [
        "## **Objectives**\n",
        "1. Identifies the history of present illness (HPI) section for the 10 notes in the file and counts the number of sections.\n",
        "\n",
        "2. A sentence “splitter” that will return the sentences in a given HPI section.\n",
        "\n",
        "3. A function that redacts all numbers from a given HPI section.\n",
        "\n",
        "Please write the following functions:\n",
        "\n",
        "\n"
      ],
      "metadata": {
        "id": "HBmdK7eN97Ov"
      }
    },
    {
      "cell_type": "markdown",
      "source": [
        "**find_hpi_sections(fname)** —— takes a filename as a parameter and detects the HPI section (hint: use the two strings “HPI:” and “Allergies:” to detect the beginning and end of the HPI sections. Use the “starts with” metacharacter )."
      ],
      "metadata": {
        "id": "sbgG4Lbk_BpY"
      }
    },
    {
      "cell_type": "code",
      "source": [
        "def find_hpi_sections(fname):\n",
        "  f = open(fname, 'r').read()\n",
        "  t = ''.join(f.splitlines())\n",
        "  HPI = re.findall(r'HPI:(.*?)Allergies:', t)\n",
        "  return(HPI)\n",
        "\n",
        "  "
      ],
      "metadata": {
        "id": "cbIjWvZ39wt1"
      },
      "execution_count": 23,
      "outputs": []
    },
    {
      "cell_type": "code",
      "source": [
        "fhs = find_hpi_sections('/content/med277Lab1.csv')\n"
      ],
      "metadata": {
        "id": "LGzv4VdCE1YQ"
      },
      "execution_count": 24,
      "outputs": []
    },
    {
      "cell_type": "code",
      "source": [
        "fhs"
      ],
      "metadata": {
        "colab": {
          "base_uri": "https://localhost:8080/"
        },
        "id": "X15VCJJ0wsmv",
        "outputId": "a002151f-9247-4bc9-a052-18a49153328c"
      },
      "execution_count": 25,
      "outputs": [
        {
          "output_type": "execute_result",
          "data": {
            "text/plain": [
              "['   24 yo F with h/o idiopathic chronic urticaria and angioedema requiring   intubation during previous admission, asthma, and seasonal allergies   who presents with tongue swelling X 6 hrs. She took her epipen at home   without much relief in her symptoms. Denies associated SOB, difficulty   swallowing, wheezing. She is able to control her secretions without   difficulty but has noticed that her voice is more sluggish and hoarser   than usual. The pt feels that her symptoms as not as severe as they   were on her prior admission when she required intubation for airway   management.   .   In the ED, vitals stable, O2 sat 100% RA. She was given solumedrol 125   mg IV, benadryl 50 mg IV, and famotidine 20 mg IV without much   subjective improvement in her symptoms. She was admitted to the [**Hospital Unit Name 44**]   overnight for airway monitoring.   Patient admitted from: [**Hospital1 54**] ER   History obtained from [**Hospital 85**] Medical records   ',\n",
              " '   24 yo F with h/o idiopathic chronic urticaria and angioedema requiring   intubation during previous admission, asthma, and seasonal allergies   who presents with tongue swelling X 6 hrs. She took her epipen at home   without much relief in her symptoms. Denies associated SOB, difficulty   swallowing, wheezing. She is able to control her secretions without   difficulty but has noticed that her voice is more sluggish and hoarser   than usual. The pt feels that her symptoms as not as severe as they   were on her prior admission when she required intubation for airway   management.   .   In the ED, vitals stable, O2 sat 100% RA. She was given solumedrol 125   mg IV, benadryl 50 mg IV, and famotidine 20 mg IV without much   subjective improvement in her symptoms. She was admitted to the [**Hospital Unit Name 44**]   overnight for airway monitoring.   Patient admitted from: [**Hospital1 54**] ER   History obtained from [**Hospital 85**] Medical records   ',\n",
              " \"   63 yo M with h/o DM type 1, PVD, and HTN who presents with   hyperglycemia and altered mental status. The patient states that he was   in his USOH until Monday, when he awoke with abdominal pain and nausea.   He could not eat anything so he didn't take his insulin. He did not   vomit or experience fevers/chills, nor any dysuria, new cough, or URI   sxs. He did manage to go to his numerous medical appointments that day,   when he was seen by PCP, [**Name10 (NameIs) 276**], and dentist.   .   Per wife, the dentist foud a large mouth abscess for which he was   prescribed clindamycin 150mg qid x 7 days. Otherwise visits were   without incident. Sugars have been running very erratically, with FSG   on [**1-19**]- [**1-20**] ranging from 70's to 500+. Today, after returning from   work, she found him slumped over at his computer and confused. Checked   BS and was so high meter didn't read number. Called Dr. [**Last Name (STitle) 488**],   rechecked BS, was still higher than readable, so called EMS. Was   disoriented, calling son by name and stating he needed 750 units of   insulin.   .   In the ED, vitals were stable. Initial labs were notable for glucose   769, HCO3 9, AG 32, WBC 21.3, lactate 3.9, UA positive for ketones. CXR   without acute process, EKG with new [**Street Address(2) 489**] dep V5-6, 0.[**Street Address(2) 490**] dep II,   III, aVF. ABG 7.08/25/104/8. He was started on an insulin gtt at 8   units/hr, given 4 L IVFs, asa 325 po X 1, levaquin 500 mg IV X 1, and   flagyl 500 mg IV X 1.   .   ROS positive for headache and blurry vision recently. Also endorses   poor appetite and po intake due to nausea, abdominal pain, and vomiting   today. Denies unusual polyuria or polydipsia. Denies CP or SOB   Patient admitted from: [**Hospital1 54**] ER   History obtained from Patient, Family / [**Hospital 56**] Medical records   \",\n",
              " '   24 yo F with h/o idiopathic chronic urticaria and angioedema requiring   intubation during previous admission, asthma, and seasonal allergies   who presents with tongue swelling X 6 hrs. She took her epipen at home   without much relief in her symptoms. Denies associated SOB, difficulty   swallowing, wheezing. She is able to control her secretions without   difficulty but has noticed that her voice is more sluggish and hoarser   than usual. The pt feels that her symptoms as not as severe as they   were on her prior admission when she required intubation for airway   management.   .   In the ED, vitals stable, O2 sat 100% RA. She was given solumedrol 125   mg IV, benadryl 50 mg IV, and famotidine 20 mg IV without much   subjective improvement in her symptoms. She was admitted to the [**Hospital Unit Name 44**]   overnight for airway monitoring.   Patient admitted from: [**Hospital1 54**] ER   History obtained from [**Hospital 85**] Medical records   ',\n",
              " '   24 yo F with h/o idiopathic chronic urticaria and angioedema requiring   intubation during previous admission, asthma, and seasonal allergies   who presents with tongue swelling X 6 hrs. She took her epipen at home   without much relief in her symptoms. Denies associated SOB, difficulty   swallowing, wheezing. She is able to control her secretions without   difficulty but has noticed that her voice is more sluggish and hoarser   than usual. The pt feels that her symptoms as not as severe as they   were on her prior admission when she required intubation for airway   management.   .   In the ED, vitals stable, O2 sat 100% RA. She was given solumedrol 125   mg IV, benadryl 50 mg IV, and famotidine 20 mg IV without much   subjective improvement in her symptoms. She was admitted to the [**Hospital Unit Name 44**]   overnight for airway monitoring.   Patient admitted from: [**Hospital1 54**] ER   History obtained from [**Hospital 85**] Medical records   ',\n",
              " '   24 yo F with h/o idiopathic chronic urticaria and angioedema requiring   intubation during previous admission, asthma, and seasonal allergies   who presents with tongue swelling X 6 hrs. She took her epipen at home   without much relief in her symptoms. Denies associated SOB, difficulty   swallowing, wheezing. She is able to control her secretions without   difficulty but has noticed that her voice is more sluggish and hoarser   than usual. The pt feels that her symptoms as not as severe as they   were on her prior admission when she required intubation for airway   management.   .   In the ED, vitals stable, O2 sat 100% RA. She was given solumedrol 125   mg IV, benadryl 50 mg IV, and famotidine 20 mg IV without much   subjective improvement in her symptoms. She was admitted to the [**Hospital Unit Name 44**]   overnight for airway monitoring.   Patient admitted from: [**Hospital1 54**] ER   History obtained from [**Hospital 85**] Medical records   ',\n",
              " '   Ms. [**Known lastname 686**] is an 83-year-old Russian-speaking woman with PMH of   COPD, HTN, CVA, and T2DM who presents to the ED from [**Hospital 12**] Rehab with   fever and shortness of breath. She was noted to have N/V and lower   abdominal pain for one day prior to admission, when she was found to be   drowsy and weak. She had a CXR at HR which was read as no acute changes   from prior. During transport she received SL nitro x 1 and Lasix 20 mg   IV x 1.   In the ED initial vitals were T101.6, BP 175/104, HR 116, 93% on NRB   eventually improving to 98%. She did not tolerate BiPAP. She vomited a   small amount of coffee ground emesis in the ED. Nitro gtt was started   for BP of 194/131. A CTA was done which was negative for PE. An EKG   showed sinus tach with LAD and no acute ST changes or Q waves. She was   given tylenol, combivent nebs x 3, levaquin 750mg IV x 1, cefepime 1g   IV x 1, flagyl 500mg IV x1, and protonix 40mg IV x1. GI was made aware   and pt was admitted ot [**Hospital Unit Name 44**] for further care.   Upon arrival to the [**Hospital Unit Name 44**], further history was obtained with translator.   She explained that she has had SOB x 1 week along with dysuria and   lower abdominal pain of unclear length. She denied CP. She admits to a   dry cough x 1 week as well. Also explains that she has had N/V. She   also admits to constipation. She currently lives at [**Hospital 12**] Rehab and   has done so for the past year. Ambulates at baseline without   assistance. Niece and nephew are her family contact.   [**Name (NI) 53**] admitted from: [**Hospital1 54**] ER   History obtained from Patient, [**Hospital 228**] Medical records   ',\n",
              " '   Ms. [**Known lastname 686**] is an 83-year-old Russian-speaking woman with PMH of   HTN, CVA, and T2DM who presents to the ED from [**Hospital 12**] Rehab with fever   and shortness of breath. She was noted to have N/V and lower abdominal   pain for one day prior to admission, when she was found to be drowsy   and weak. She had a CXR at HR which was read as no acute changes from   prior. During transport she received SL nitro x 1 and Lasix 20 mg IV x   1.   In the ED initial vitals were T101.6, BP 175/104, HR 116, 93% on NRB   eventually improving to 98%. She did not tolerate BiPAP. She vomited a   small amount of coffee ground emesis in the ED without NG lavage given   acute respiratory distress. Guaiac negative in the ED. Nitro gtt was   started for BP of 194/131. A CTA was done which was negative for PE. An   EKG showed sinus tach with LAD and no acute ST changes or Q waves. She   was given tylenol, combivent nebs x 3, levaquin 750mg IV x 1, cefepime   1g IV x 1, flagyl 500mg IV x1, and protonix 40mg IV x1. GI was made   aware and pt was admitted ot [**Hospital Unit Name 44**] for further care.   Upon arrival to the [**Hospital Unit Name 44**], further history was obtained with translator.   She explained that she has had SOB x 1 week along with dysuria and   lower abdominal pain of unclear length. She denied CP. She admits to a   dry cough x 1 week as well. Also explains that she has had N/V. She   also admits to constipation. She currently lives at [**Hospital 12**] Rehab and   has done so for the past year. Ambulates at baseline without   assistance. [**Hospital 687**] and nephew are her family contact.   [**Name (NI) 53**] admitted from: [**Hospital1 54**] ER   History obtained from Patient, [**Hospital 228**] Medical records   ',\n",
              " '   This is a [**Age over 90 212**]yo NH resident with PMH of CRI, known CAD, dementia who   presents from NH with lethargy, fever, and hypoxia.  He was diagnosed   with an aspiration pna 2 days ago and started on levafloxacin and   flagyl.  This morning unarousable, fever, desat to 88%, fingerstick   registered \"\"high\"\" at 6am, received 10 units insulin, by 8:45, still   reg. \"\"high\"\", rec\\'d 6 units.   .   In the ED Tmax 102.6 rectal, HR 101, RR24, BP100/65, 92%NRB.  He was   given etomidate 20mg IV, succinylcholine 120mg IV, ativan 4mg IV,   versed 6mgIV, and intubated, had very thick secretions.  RIJ sepsis   line placed.  He was also treated with 4L IVF, Zosyn 4.25mg IV x1,   decadron 10mg IV, Vancomycin 1g IV, 10 units regular insulin IV.  He   was started on levophed for BP as low as 81/45.   Patient admitted from: [**Hospital1 54**] ER   History obtained from Family / [**Hospital 56**] Medical records   ',\n",
              " '   This is a 75 year-old Spanish-speaking male with metastatic clear cell   renal cell carcinoma and HTN who presented with complaint of black   stool.  He had a CT scan [**12-2**] showing tumor abutting and possibly   eroding into duodenum and right colon.  He was noted to have guaiac   positive stool last week with a drop in Hct.  He was transfused one   unit pRBCs on [**12-11**] in [**Hospital 227**] clinic.  He saw GI on [**12-15**] with a plan for   outpatient endoscopies.  Today he presented in clinic unscheduled with   c/o black stools x 2 yesterday.   .   In ED his Hct was 23.7.  Rectal exam showed melena.  He was   crossmatched for 6 units and ordered for 2 units.  GI and Oncology   consultants were called.   .   Or arrival to the ICU, he denies fevers, abdominal pain, BRBPR, nausea,   or hematemesis.  No chest pain, palpitations, SOB, dizziness, or LH.   No NSAID or ASA use.   Patient admitted from: [**Hospital1 54**] ER   History obtained from Patient, [**Hospital 228**] Medical records   ']"
            ]
          },
          "metadata": {},
          "execution_count": 25
        }
      ]
    },
    {
      "cell_type": "markdown",
      "source": [
        "**find_sentences(input_text)** -- identifies the sentences in a section of text\n",
        "\n",
        "(hint: use the regular expression function re.split() and a pattern for a period at the end of a sentence)\n"
      ],
      "metadata": {
        "id": "tMc1XHxF_Qgh"
      }
    },
    {
      "cell_type": "code",
      "source": [
        "def find_sentences(input_text):\n",
        "  return(re.split(r'\\.',input_text))\n",
        "  "
      ],
      "metadata": {
        "id": "w5HbI-8H_UVP"
      },
      "execution_count": 26,
      "outputs": []
    },
    {
      "cell_type": "code",
      "source": [
        "\n",
        "find_sentences(fhs[0])"
      ],
      "metadata": {
        "colab": {
          "base_uri": "https://localhost:8080/"
        },
        "id": "672j9bXGL2ut",
        "outputId": "45dc1654-fd99-4cd7-9d6a-99fa2771f9d2"
      },
      "execution_count": 29,
      "outputs": [
        {
          "output_type": "execute_result",
          "data": {
            "text/plain": [
              "['   24 yo F with h/o idiopathic chronic urticaria and angioedema requiring   intubation during previous admission, asthma, and seasonal allergies   who presents with tongue swelling X 6 hrs',\n",
              " ' She took her epipen at home   without much relief in her symptoms',\n",
              " ' Denies associated SOB, difficulty   swallowing, wheezing',\n",
              " ' She is able to control her secretions without   difficulty but has noticed that her voice is more sluggish and hoarser   than usual',\n",
              " ' The pt feels that her symptoms as not as severe as they   were on her prior admission when she required intubation for airway   management',\n",
              " '   ',\n",
              " '   In the ED, vitals stable, O2 sat 100% RA',\n",
              " ' She was given solumedrol 125   mg IV, benadryl 50 mg IV, and famotidine 20 mg IV without much   subjective improvement in her symptoms',\n",
              " ' She was admitted to the [**Hospital Unit Name 44**]   overnight for airway monitoring',\n",
              " '   Patient admitted from: [**Hospital1 54**] ER   History obtained from [**Hospital 85**] Medical records   ']"
            ]
          },
          "metadata": {},
          "execution_count": 29
        }
      ]
    },
    {
      "cell_type": "markdown",
      "source": [
        "**redact_numbers(input_text)** -- uses reg expressions to replace numbers in the input_text with the phrase [num]."
      ],
      "metadata": {
        "id": "26821aJ9_Ur9"
      }
    },
    {
      "cell_type": "code",
      "source": [
        "def redact_numbers(input_text):\n",
        "  return(re.sub('\\d',r'[num]',input_text))"
      ],
      "metadata": {
        "id": "a7ai_iuv_Y9x"
      },
      "execution_count": 30,
      "outputs": []
    },
    {
      "cell_type": "code",
      "source": [
        "nbr = 'eve1ry nu3mber'\n",
        "redact_numbers(fhs[0])"
      ],
      "metadata": {
        "colab": {
          "base_uri": "https://localhost:8080/",
          "height": 146
        },
        "id": "TmCweyYKJGg5",
        "outputId": "cd52bebf-fe24-427d-ce54-7bcc3ceb862e"
      },
      "execution_count": 31,
      "outputs": [
        {
          "output_type": "execute_result",
          "data": {
            "text/plain": [
              "'   [num][num] yo F with h/o idiopathic chronic urticaria and angioedema requiring   intubation during previous admission, asthma, and seasonal allergies   who presents with tongue swelling X [num] hrs. She took her epipen at home   without much relief in her symptoms. Denies associated SOB, difficulty   swallowing, wheezing. She is able to control her secretions without   difficulty but has noticed that her voice is more sluggish and hoarser   than usual. The pt feels that her symptoms as not as severe as they   were on her prior admission when she required intubation for airway   management.   .   In the ED, vitals stable, O[num] sat [num][num][num]% RA. She was given solumedrol [num][num][num]   mg IV, benadryl [num][num] mg IV, and famotidine [num][num] mg IV without much   subjective improvement in her symptoms. She was admitted to the [**Hospital Unit Name [num][num]**]   overnight for airway monitoring.   Patient admitted from: [**Hospital[num] [num][num]**] ER   History obtained from [**Hospital [num][num]**] Medical records   '"
            ],
            "application/vnd.google.colaboratory.intrinsic+json": {
              "type": "string"
            }
          },
          "metadata": {},
          "execution_count": 31
        }
      ]
    }
  ]
}